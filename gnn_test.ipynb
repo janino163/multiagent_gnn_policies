{
 "metadata": {
  "language_info": {
   "codemirror_mode": {
    "name": "ipython",
    "version": 3
   },
   "file_extension": ".py",
   "mimetype": "text/x-python",
   "name": "python",
   "nbconvert_exporter": "python",
   "pygments_lexer": "ipython3",
   "version": "3.7.10"
  },
  "orig_nbformat": 2,
  "kernelspec": {
   "name": "python3710jvsc74a57bd01a5507523204cec3e2ad6dc99d0a1c9ad21e2c875548ea66d81c650ed693e796",
   "display_name": "Python 3.7.10 64-bit ('swarm_gnn2': conda)"
  },
  "metadata": {
   "interpreter": {
    "hash": "1a5507523204cec3e2ad6dc99d0a1c9ad21e2c875548ea66d81c650ed693e796"
   }
  }
 },
 "nbformat": 4,
 "nbformat_minor": 2,
 "cells": [
  {
   "cell_type": "code",
   "execution_count": 1,
   "metadata": {},
   "outputs": [],
   "source": [
    "from os import path\n",
    "import configparser\n",
    "import numpy as np\n",
    "import random\n",
    "import gym\n",
    "import gym_flock\n",
    "import torch\n",
    "import sys\n",
    "\n",
    "from learner.state_with_delay import MultiAgentStateWithDelay\n",
    "from learner.gnn_dagger import DAGGER"
   ]
  },
  {
   "cell_type": "code",
   "execution_count": 2,
   "metadata": {},
   "outputs": [],
   "source": [
    "def plot_state_action(state, action):\n",
    "    print(state.values.shape)\n",
    "    "
   ]
  },
  {
   "cell_type": "code",
   "execution_count": 3,
   "metadata": {},
   "outputs": [],
   "source": [
    "def test(args, actor_path, render=True):\n",
    "    # initialize gym env\n",
    "    env_name = args.get('env')\n",
    "    env = gym.make(env_name)\n",
    "    if isinstance(env.env, gym_flock.envs.flocking.FlockingRelativeEnv):\n",
    "        env.env.params_from_cfg(args)\n",
    "\n",
    "    # use seed\n",
    "    seed = args.getint('seed')\n",
    "    env.seed(seed)\n",
    "    random.seed(seed)\n",
    "    np.random.seed(seed)\n",
    "    torch.manual_seed(seed)\n",
    "\n",
    "    # initialize params tuple\n",
    "    device = torch.device(\"cuda:0\" if torch.cuda.is_available() else \"cpu\")\n",
    "    learner = DAGGER(device, args)\n",
    "    n_test_episodes = args.getint('n_test_episodes')\n",
    "    learner.load_model(actor_path, device)\n",
    "\n",
    "    for _ in range(n_test_episodes):\n",
    "        episode_reward = 0\n",
    "        state = MultiAgentStateWithDelay(device, args, env.reset(), prev_state=None)\n",
    "        done = False\n",
    "        while not done:\n",
    "            action = learner.select_action(state)\n",
    "            next_state, reward, done, _ = env.step(action.cpu().numpy())\n",
    "            next_state = MultiAgentStateWithDelay(device, args, next_state, prev_state=state)\n",
    "            episode_reward += reward\n",
    "            state = next_state\n",
    "            if render:\n",
    "                plot_state_action(state, action)\n",
    "                break\n",
    "                # env.render()\n",
    "        # print(episode_reward)\n",
    "        break\n",
    "    env.close()"
   ]
  },
  {
   "cell_type": "code",
   "execution_count": 4,
   "metadata": {
    "tags": []
   },
   "outputs": [
    {
     "output_type": "stream",
     "name": "stdout",
     "text": [
      "reward\n",
      "torch.Size([1, 1, 6, 100])\n"
     ]
    }
   ],
   "source": [
    "fname = 'cfg/dagger.cfg'\n",
    "\n",
    "config_file = path.join('.', fname)\n",
    "config = configparser.ConfigParser()\n",
    "config.read(config_file)\n",
    "\n",
    "printed_header = False\n",
    "actor_path = 'models/actor_FlockingRelative-v0_dagger_k3'\n",
    "\n",
    "if config.sections():\n",
    "    for section_name in config.sections():\n",
    "        if not printed_header:\n",
    "            print(config[section_name].get('header'))\n",
    "            printed_header = True\n",
    "\n",
    "        test(config[section_name], actor_path)\n",
    "else:\n",
    "    test(config[config.default_section], actor_path)"
   ]
  },
  {
   "cell_type": "code",
   "execution_count": null,
   "metadata": {},
   "outputs": [],
   "source": []
  }
 ]
}